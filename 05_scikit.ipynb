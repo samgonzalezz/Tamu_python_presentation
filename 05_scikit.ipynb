{
 "cells": [
  {
   "cell_type": "code",
   "execution_count": 1,
   "metadata": {
    "collapsed": true,
    "slideshow": {
     "slide_type": "slide"
    }
   },
   "outputs": [],
   "source": [
    "from sklearn.tree import DecisionTreeClassifier\n",
    "import matplotlib.pyplot as plt\n",
    "import itertools\n",
    "import seaborn as sns\n",
    "%matplotlib inline\n",
    "import pandas as pd\n",
    "import numpy as np\n",
    "from sklearn.metrics import confusion_matrix, roc_curve,roc_auc_score\n",
    "from sklearn.model_selection import *\n",
    "from sklearn.ensemble import RandomForestClassifier\n",
    "from sklearn.tree import export_graphviz\n",
    "from pydotplus import graph_from_dot_data\n",
    "from sklearn.externals import joblib"
   ]
  },
  {
   "cell_type": "code",
   "execution_count": 2,
   "metadata": {
    "collapsed": true,
    "slideshow": {
     "slide_type": "slide"
    }
   },
   "outputs": [],
   "source": [
    "train_df=pd.read_csv(\"train.csv\")"
   ]
  },
  {
   "cell_type": "code",
   "execution_count": 3,
   "metadata": {
    "collapsed": true,
    "slideshow": {
     "slide_type": "-"
    }
   },
   "outputs": [],
   "source": [
    "X_train=train_df[[\"age\",\"fare\",\"Second\",\"Third\",\"male\",\"ischild\",\"family_size\"]].values\n",
    "y_train=train_df[\"survived\"].values"
   ]
  },
  {
   "cell_type": "markdown",
   "metadata": {
    "slideshow": {
     "slide_type": "slide"
    }
   },
   "source": [
    "** In *Sklearn* the following steps take place**\n",
    "- Define the model: by calling the Learning algorithm\n",
    "```python\n",
    "model=DecisionTreeClassifier()\n",
    "```\n",
    "- We then fit the model object to X and Y \n",
    "```python\n",
    "model=model.fit(X,y)\n",
    "```\n",
    "- Finally we perform prediction\n",
    "```python\n",
    "prediction=model.predict(X)\n",
    "```\n"
   ]
  },
  {
   "cell_type": "code",
   "execution_count": 4,
   "metadata": {
    "collapsed": true,
    "slideshow": {
     "slide_type": "slide"
    }
   },
   "outputs": [],
   "source": [
    "clf_ranf=RandomForestClassifier(n_estimators=10,max_depth=10,random_state=2301)\n",
    "clf_ranf=clf_ranf.fit(X_train,y_train)"
   ]
  },
  {
   "cell_type": "code",
   "execution_count": 5,
   "metadata": {
    "collapsed": true,
    "slideshow": {
     "slide_type": "-"
    }
   },
   "outputs": [],
   "source": [
    "pred_train=clf_ranf.predict(X_train)"
   ]
  },
  {
   "cell_type": "code",
   "execution_count": 6,
   "metadata": {
    "collapsed": true,
    "slideshow": {
     "slide_type": "notes"
    }
   },
   "outputs": [],
   "source": [
    "def plot_confusion_matrix(cm, classes,\n",
    "                          normalize=False,\n",
    "                          title='Confusion matrix',\n",
    "                          cmap=plt.cm.Blues):\n",
    "    \"\"\"\n",
    "    This function prints and plots the confusion matrix.\n",
    "    Normalization can be applied by setting `normalize=True`.\n",
    "    \"\"\"\n",
    "    if normalize:\n",
    "        cm = cm.astype('float') / cm.sum(axis=1)[:, np.newaxis]\n",
    "        print(\"Normalized confusion matrix\")\n",
    "    else:\n",
    "        print('Confusion matrix, without normalization')\n",
    "\n",
    "    print(cm)\n",
    "\n",
    "    plt.imshow(cm, interpolation='nearest', cmap=cmap)\n",
    "    plt.title(title)\n",
    "    plt.colorbar()\n",
    "    tick_marks = np.arange(len(classes))\n",
    "    plt.xticks(tick_marks, classes, rotation=45)\n",
    "    plt.yticks(tick_marks, classes)\n",
    "\n",
    "    fmt = '.2f' if normalize else 'd'\n",
    "    thresh = cm.max() / 2.\n",
    "    for i, j in itertools.product(range(cm.shape[0]), range(cm.shape[1])):\n",
    "        plt.text(j, i, format(cm[i, j], fmt),\n",
    "                 horizontalalignment=\"center\",\n",
    "                 color=\"white\" if cm[i, j] > thresh else \"black\")\n",
    "\n",
    "    plt.tight_layout()\n",
    "    plt.ylabel('True label')\n",
    "    plt.xlabel('Predicted label')"
   ]
  },
  {
   "cell_type": "code",
   "execution_count": 7,
   "metadata": {
    "slideshow": {
     "slide_type": "slide"
    }
   },
   "outputs": [
    {
     "name": "stdout",
     "output_type": "stream",
     "text": [
      "accuracy:\n",
      "0.925561797752809\n",
      "Confusion matrix:\n",
      "[[424  15]\n",
      " [ 38 235]]\n"
     ]
    }
   ],
   "source": [
    "score=clf_ranf.score(X_train,y_train)\n",
    "confusion = confusion_matrix(y_train, pred_train)\n",
    "print(\"accuracy:\\n{}\".format(score))\n",
    "print(\"Confusion matrix:\\n{}\".format(confusion))"
   ]
  },
  {
   "cell_type": "code",
   "execution_count": 8,
   "metadata": {
    "slideshow": {
     "slide_type": "slide"
    }
   },
   "outputs": [
    {
     "name": "stdout",
     "output_type": "stream",
     "text": [
      "Normalized confusion matrix\n",
      "[[ 0.96583144  0.03416856]\n",
      " [ 0.13919414  0.86080586]]\n"
     ]
    },
    {
     "data": {
      "image/png": "[encoded data removed]",
      "text/plain": [
       "<matplotlib.figure.Figure at 0x18fe5d75b00>"
      ]
     },
     "metadata": {},
     "output_type": "display_data"
    }
   ],
   "source": [
    "plot_confusion_matrix(confusion,classes=[\"Survived\",\"Died\"],normalize=True)"
   ]
  },
  {
   "cell_type": "markdown",
   "metadata": {
    "slideshow": {
     "slide_type": "slide"
    }
   },
   "source": [
    "**Wait** how do we know that I picked the right hyperparameters. Is the model tuned and how will it perform on new data? \n",
    "We're going to cheat to show this model both training and test and compare "
   ]
  },
  {
   "cell_type": "code",
   "execution_count": 9,
   "metadata": {
    "collapsed": true,
    "slideshow": {
     "slide_type": "-"
    }
   },
   "outputs": [],
   "source": [
    "test_df=pd.read_csv(\"test.csv\")"
   ]
  },
  {
   "cell_type": "code",
   "execution_count": 10,
   "metadata": {
    "collapsed": true,
    "slideshow": {
     "slide_type": "-"
    }
   },
   "outputs": [],
   "source": [
    "X_test=test_df[[\"age\",\"fare\",\"Second\",\"Third\",\"male\",\"ischild\",\"family_size\"]].values\n",
    "y_test=test_df[\"survived\"].values"
   ]
  },
  {
   "cell_type": "markdown",
   "metadata": {
    "slideshow": {
     "slide_type": "slide"
    }
   },
   "source": [
    "** Now We just want to predict on the test data**"
   ]
  },
  {
   "cell_type": "code",
   "execution_count": 11,
   "metadata": {
    "collapsed": true,
    "slideshow": {
     "slide_type": "-"
    }
   },
   "outputs": [],
   "source": [
    "pred_test=clf_ranf.predict(X_test)"
   ]
  },
  {
   "cell_type": "code",
   "execution_count": 12,
   "metadata": {
    "slideshow": {
     "slide_type": "-"
    }
   },
   "outputs": [
    {
     "name": "stdout",
     "output_type": "stream",
     "text": [
      "accuracy:\n",
      "0.8044692737430168\n",
      "Confusion matrix:\n",
      "[[93 17]\n",
      " [18 51]]\n"
     ]
    }
   ],
   "source": [
    "score=clf_ranf.score(X_test,y_test)\n",
    "confusion = confusion_matrix(y_test, pred_test)\n",
    "print(\"accuracy:\\n{}\".format(score))\n",
    "print(\"Confusion matrix:\\n{}\".format(confusion))"
   ]
  },
  {
   "cell_type": "code",
   "execution_count": 13,
   "metadata": {
    "slideshow": {
     "slide_type": "slide"
    }
   },
   "outputs": [
    {
     "name": "stdout",
     "output_type": "stream",
     "text": [
      "Normalized confusion matrix\n",
      "[[ 0.84545455  0.15454545]\n",
      " [ 0.26086957  0.73913043]]\n"
     ]
    },
    {
     "data": {
      "image/png": "[encoded data removed]",
      "text/plain": [
       "<matplotlib.figure.Figure at 0x18fe5d75860>"
      ]
     },
     "metadata": {},
     "output_type": "display_data"
    }
   ],
   "source": [
    "plot_confusion_matrix(confusion,classes=[\"Survived\",\"Died\"],normalize=True)"
   ]
  },
  {
   "cell_type": "markdown",
   "metadata": {
    "slideshow": {
     "slide_type": "slide"
    }
   },
   "source": [
    "# Grid Search\n",
    "\n",
    "* How do we assess optimum number of trees in Random Forest?\n",
    "* Do we have the right number of min samples per splits?\n",
    "\n",
    "Grid Search with cross validation gives us the best model with optimized paramters based on the holdout set scores\n",
    "* Grid Search is essentially a nested for loop for all parameters performed on each cross validation fold\n",
    "* Scikit learn has a built-in function to perform grid search with minimalist code"
   ]
  },
  {
   "cell_type": "markdown",
   "metadata": {
    "slideshow": {
     "slide_type": "subslide"
    }
   },
   "source": [
    "<img src=\"images/Hyperparamter tuning.PNG\" alt=\"Drawing\" style=\"height: 550px\";/>\n",
    "<br>\n",
    "<font size=2>*Python Machine Learning second edition*</font>"
   ]
  },
  {
   "cell_type": "markdown",
   "metadata": {
    "slideshow": {
     "slide_type": "slide"
    }
   },
   "source": [
    "**Kfold Cross Validation**\n",
    "\n",
    "<img src=\"images/K-fold.PNG\" alt=\"Drawing\" style=\"height: 500px\";/>\n",
    "<br>\n",
    "<font size=2>*Python Machine Learning second edition*</font>"
   ]
  },
  {
   "cell_type": "code",
   "execution_count": 14,
   "metadata": {
    "collapsed": true,
    "slideshow": {
     "slide_type": "slide"
    }
   },
   "outputs": [],
   "source": [
    "'''\n",
    "creating parameter list\n",
    "'''\n",
    "cv_params = {'max_depth': [5,10,100,500], 'n_estimators': [5,10,100,500]}\n",
    "'''\n",
    "\n",
    "Defining the learning algorithem\n",
    "'''\n",
    "ranf_clf=RandomForestClassifier(random_state=2301,n_jobs=-1)\n",
    "'''\n",
    "initializing Grid Search method\n",
    "'''\n",
    "gs = GridSearchCV(estimator=ranf_clf,param_grid=cv_params,cv=10,return_train_score=False);"
   ]
  },
  {
   "cell_type": "code",
   "execution_count": 15,
   "metadata": {
    "collapsed": true,
    "scrolled": false,
    "slideshow": {
     "slide_type": "-"
    }
   },
   "outputs": [],
   "source": [
    "gs.fit(X_train, y_train);"
   ]
  },
  {
   "cell_type": "code",
   "execution_count": 16,
   "metadata": {
    "slideshow": {
     "slide_type": "subslide"
    }
   },
   "outputs": [
    {
     "data": {
      "text/html": [
       "<div>\n",
       "<style>\n",
       "    .dataframe thead tr:only-child th {\n",
       "        text-align: right;\n",
       "    }\n",
       "\n",
       "    .dataframe thead th {\n",
       "        text-align: left;\n",
       "    }\n",
       "\n",
       "    .dataframe tbody tr th {\n",
       "        vertical-align: top;\n",
       "    }\n",
       "</style>\n",
       "<table border=\"1\" class=\"dataframe\">\n",
       "  <thead>\n",
       "    <tr style=\"text-align: right;\">\n",
       "      <th></th>\n",
       "      <th>mean_fit_time</th>\n",
       "      <th>mean_score_time</th>\n",
       "      <th>mean_test_score</th>\n",
       "      <th>param_max_depth</th>\n",
       "      <th>param_n_estimators</th>\n",
       "      <th>params</th>\n",
       "      <th>rank_test_score</th>\n",
       "      <th>split0_test_score</th>\n",
       "      <th>split1_test_score</th>\n",
       "      <th>split2_test_score</th>\n",
       "      <th>split3_test_score</th>\n",
       "      <th>split4_test_score</th>\n",
       "      <th>split5_test_score</th>\n",
       "      <th>split6_test_score</th>\n",
       "      <th>split7_test_score</th>\n",
       "      <th>split8_test_score</th>\n",
       "      <th>split9_test_score</th>\n",
       "      <th>std_fit_time</th>\n",
       "      <th>std_score_time</th>\n",
       "      <th>std_test_score</th>\n",
       "    </tr>\n",
       "  </thead>\n",
       "  <tbody>\n",
       "    <tr>\n",
       "      <th>0</th>\n",
       "      <td>0.113949</td>\n",
       "      <td>0.106117</td>\n",
       "      <td>0.799157</td>\n",
       "      <td>5</td>\n",
       "      <td>5</td>\n",
       "      <td>{'max_depth': 5, 'n_estimators': 5}</td>\n",
       "      <td>14</td>\n",
       "      <td>0.750000</td>\n",
       "      <td>0.819444</td>\n",
       "      <td>0.736111</td>\n",
       "      <td>0.845070</td>\n",
       "      <td>0.830986</td>\n",
       "      <td>0.845070</td>\n",
       "      <td>0.845070</td>\n",
       "      <td>0.816901</td>\n",
       "      <td>0.802817</td>\n",
       "      <td>0.700000</td>\n",
       "      <td>0.005627</td>\n",
       "      <td>0.002553</td>\n",
       "      <td>0.049183</td>\n",
       "    </tr>\n",
       "    <tr>\n",
       "      <th>1</th>\n",
       "      <td>0.126037</td>\n",
       "      <td>0.108019</td>\n",
       "      <td>0.823034</td>\n",
       "      <td>5</td>\n",
       "      <td>10</td>\n",
       "      <td>{'max_depth': 5, 'n_estimators': 10}</td>\n",
       "      <td>5</td>\n",
       "      <td>0.750000</td>\n",
       "      <td>0.819444</td>\n",
       "      <td>0.819444</td>\n",
       "      <td>0.859155</td>\n",
       "      <td>0.845070</td>\n",
       "      <td>0.845070</td>\n",
       "      <td>0.845070</td>\n",
       "      <td>0.830986</td>\n",
       "      <td>0.873239</td>\n",
       "      <td>0.742857</td>\n",
       "      <td>0.008932</td>\n",
       "      <td>0.002825</td>\n",
       "      <td>0.041316</td>\n",
       "    </tr>\n",
       "    <tr>\n",
       "      <th>2</th>\n",
       "      <td>0.192228</td>\n",
       "      <td>0.104155</td>\n",
       "      <td>0.830056</td>\n",
       "      <td>5</td>\n",
       "      <td>100</td>\n",
       "      <td>{'max_depth': 5, 'n_estimators': 100}</td>\n",
       "      <td>1</td>\n",
       "      <td>0.777778</td>\n",
       "      <td>0.875000</td>\n",
       "      <td>0.805556</td>\n",
       "      <td>0.859155</td>\n",
       "      <td>0.845070</td>\n",
       "      <td>0.873239</td>\n",
       "      <td>0.816901</td>\n",
       "      <td>0.830986</td>\n",
       "      <td>0.887324</td>\n",
       "      <td>0.728571</td>\n",
       "      <td>0.033661</td>\n",
       "      <td>0.001156</td>\n",
       "      <td>0.046810</td>\n",
       "    </tr>\n",
       "    <tr>\n",
       "      <th>3</th>\n",
       "      <td>0.781837</td>\n",
       "      <td>0.156832</td>\n",
       "      <td>0.827247</td>\n",
       "      <td>5</td>\n",
       "      <td>500</td>\n",
       "      <td>{'max_depth': 5, 'n_estimators': 500}</td>\n",
       "      <td>4</td>\n",
       "      <td>0.777778</td>\n",
       "      <td>0.875000</td>\n",
       "      <td>0.805556</td>\n",
       "      <td>0.845070</td>\n",
       "      <td>0.845070</td>\n",
       "      <td>0.859155</td>\n",
       "      <td>0.816901</td>\n",
       "      <td>0.830986</td>\n",
       "      <td>0.887324</td>\n",
       "      <td>0.728571</td>\n",
       "      <td>0.061715</td>\n",
       "      <td>0.052464</td>\n",
       "      <td>0.044942</td>\n",
       "    </tr>\n",
       "    <tr>\n",
       "      <th>4</th>\n",
       "      <td>0.117267</td>\n",
       "      <td>0.108846</td>\n",
       "      <td>0.810393</td>\n",
       "      <td>10</td>\n",
       "      <td>5</td>\n",
       "      <td>{'max_depth': 10, 'n_estimators': 5}</td>\n",
       "      <td>7</td>\n",
       "      <td>0.763889</td>\n",
       "      <td>0.875000</td>\n",
       "      <td>0.805556</td>\n",
       "      <td>0.859155</td>\n",
       "      <td>0.816901</td>\n",
       "      <td>0.802817</td>\n",
       "      <td>0.802817</td>\n",
       "      <td>0.774648</td>\n",
       "      <td>0.859155</td>\n",
       "      <td>0.742857</td>\n",
       "      <td>0.007414</td>\n",
       "      <td>0.002452</td>\n",
       "      <td>0.041338</td>\n",
       "    </tr>\n",
       "    <tr>\n",
       "      <th>5</th>\n",
       "      <td>0.128298</td>\n",
       "      <td>0.109361</td>\n",
       "      <td>0.823034</td>\n",
       "      <td>10</td>\n",
       "      <td>10</td>\n",
       "      <td>{'max_depth': 10, 'n_estimators': 10}</td>\n",
       "      <td>5</td>\n",
       "      <td>0.777778</td>\n",
       "      <td>0.875000</td>\n",
       "      <td>0.833333</td>\n",
       "      <td>0.859155</td>\n",
       "      <td>0.845070</td>\n",
       "      <td>0.816901</td>\n",
       "      <td>0.816901</td>\n",
       "      <td>0.802817</td>\n",
       "      <td>0.887324</td>\n",
       "      <td>0.714286</td>\n",
       "      <td>0.007471</td>\n",
       "      <td>0.002198</td>\n",
       "      <td>0.047881</td>\n",
       "    </tr>\n",
       "    <tr>\n",
       "      <th>6</th>\n",
       "      <td>0.214827</td>\n",
       "      <td>0.106643</td>\n",
       "      <td>0.828652</td>\n",
       "      <td>10</td>\n",
       "      <td>100</td>\n",
       "      <td>{'max_depth': 10, 'n_estimators': 100}</td>\n",
       "      <td>2</td>\n",
       "      <td>0.777778</td>\n",
       "      <td>0.888889</td>\n",
       "      <td>0.833333</td>\n",
       "      <td>0.845070</td>\n",
       "      <td>0.845070</td>\n",
       "      <td>0.816901</td>\n",
       "      <td>0.816901</td>\n",
       "      <td>0.830986</td>\n",
       "      <td>0.873239</td>\n",
       "      <td>0.757143</td>\n",
       "      <td>0.041330</td>\n",
       "      <td>0.001815</td>\n",
       "      <td>0.037599</td>\n",
       "    </tr>\n",
       "    <tr>\n",
       "      <th>7</th>\n",
       "      <td>0.766216</td>\n",
       "      <td>0.177944</td>\n",
       "      <td>0.828652</td>\n",
       "      <td>10</td>\n",
       "      <td>500</td>\n",
       "      <td>{'max_depth': 10, 'n_estimators': 500}</td>\n",
       "      <td>2</td>\n",
       "      <td>0.777778</td>\n",
       "      <td>0.875000</td>\n",
       "      <td>0.833333</td>\n",
       "      <td>0.859155</td>\n",
       "      <td>0.816901</td>\n",
       "      <td>0.859155</td>\n",
       "      <td>0.816901</td>\n",
       "      <td>0.802817</td>\n",
       "      <td>0.901408</td>\n",
       "      <td>0.742857</td>\n",
       "      <td>0.042619</td>\n",
       "      <td>0.048924</td>\n",
       "      <td>0.044859</td>\n",
       "    </tr>\n",
       "    <tr>\n",
       "      <th>8</th>\n",
       "      <td>0.121317</td>\n",
       "      <td>0.109378</td>\n",
       "      <td>0.793539</td>\n",
       "      <td>100</td>\n",
       "      <td>5</td>\n",
       "      <td>{'max_depth': 100, 'n_estimators': 5}</td>\n",
       "      <td>15</td>\n",
       "      <td>0.750000</td>\n",
       "      <td>0.805556</td>\n",
       "      <td>0.819444</td>\n",
       "      <td>0.873239</td>\n",
       "      <td>0.788732</td>\n",
       "      <td>0.830986</td>\n",
       "      <td>0.802817</td>\n",
       "      <td>0.732394</td>\n",
       "      <td>0.788732</td>\n",
       "      <td>0.742857</td>\n",
       "      <td>0.011003</td>\n",
       "      <td>0.004211</td>\n",
       "      <td>0.041061</td>\n",
       "    </tr>\n",
       "    <tr>\n",
       "      <th>9</th>\n",
       "      <td>0.121274</td>\n",
       "      <td>0.106548</td>\n",
       "      <td>0.810393</td>\n",
       "      <td>100</td>\n",
       "      <td>10</td>\n",
       "      <td>{'max_depth': 100, 'n_estimators': 10}</td>\n",
       "      <td>7</td>\n",
       "      <td>0.763889</td>\n",
       "      <td>0.819444</td>\n",
       "      <td>0.819444</td>\n",
       "      <td>0.887324</td>\n",
       "      <td>0.816901</td>\n",
       "      <td>0.845070</td>\n",
       "      <td>0.788732</td>\n",
       "      <td>0.774648</td>\n",
       "      <td>0.873239</td>\n",
       "      <td>0.714286</td>\n",
       "      <td>0.009218</td>\n",
       "      <td>0.003457</td>\n",
       "      <td>0.049252</td>\n",
       "    </tr>\n",
       "    <tr>\n",
       "      <th>10</th>\n",
       "      <td>0.227358</td>\n",
       "      <td>0.104384</td>\n",
       "      <td>0.808989</td>\n",
       "      <td>100</td>\n",
       "      <td>100</td>\n",
       "      <td>{'max_depth': 100, 'n_estimators': 100}</td>\n",
       "      <td>12</td>\n",
       "      <td>0.777778</td>\n",
       "      <td>0.805556</td>\n",
       "      <td>0.847222</td>\n",
       "      <td>0.830986</td>\n",
       "      <td>0.845070</td>\n",
       "      <td>0.788732</td>\n",
       "      <td>0.788732</td>\n",
       "      <td>0.802817</td>\n",
       "      <td>0.859155</td>\n",
       "      <td>0.742857</td>\n",
       "      <td>0.048333</td>\n",
       "      <td>0.002391</td>\n",
       "      <td>0.034528</td>\n",
       "    </tr>\n",
       "    <tr>\n",
       "      <th>11</th>\n",
       "      <td>0.753450</td>\n",
       "      <td>0.179751</td>\n",
       "      <td>0.810393</td>\n",
       "      <td>100</td>\n",
       "      <td>500</td>\n",
       "      <td>{'max_depth': 100, 'n_estimators': 500}</td>\n",
       "      <td>7</td>\n",
       "      <td>0.805556</td>\n",
       "      <td>0.833333</td>\n",
       "      <td>0.833333</td>\n",
       "      <td>0.845070</td>\n",
       "      <td>0.845070</td>\n",
       "      <td>0.802817</td>\n",
       "      <td>0.774648</td>\n",
       "      <td>0.788732</td>\n",
       "      <td>0.859155</td>\n",
       "      <td>0.714286</td>\n",
       "      <td>0.063017</td>\n",
       "      <td>0.049047</td>\n",
       "      <td>0.040911</td>\n",
       "    </tr>\n",
       "    <tr>\n",
       "      <th>12</th>\n",
       "      <td>0.118967</td>\n",
       "      <td>0.109626</td>\n",
       "      <td>0.793539</td>\n",
       "      <td>500</td>\n",
       "      <td>5</td>\n",
       "      <td>{'max_depth': 500, 'n_estimators': 5}</td>\n",
       "      <td>15</td>\n",
       "      <td>0.750000</td>\n",
       "      <td>0.805556</td>\n",
       "      <td>0.819444</td>\n",
       "      <td>0.873239</td>\n",
       "      <td>0.788732</td>\n",
       "      <td>0.830986</td>\n",
       "      <td>0.802817</td>\n",
       "      <td>0.732394</td>\n",
       "      <td>0.788732</td>\n",
       "      <td>0.742857</td>\n",
       "      <td>0.008184</td>\n",
       "      <td>0.002239</td>\n",
       "      <td>0.041061</td>\n",
       "    </tr>\n",
       "    <tr>\n",
       "      <th>13</th>\n",
       "      <td>0.128051</td>\n",
       "      <td>0.109079</td>\n",
       "      <td>0.810393</td>\n",
       "      <td>500</td>\n",
       "      <td>10</td>\n",
       "      <td>{'max_depth': 500, 'n_estimators': 10}</td>\n",
       "      <td>7</td>\n",
       "      <td>0.763889</td>\n",
       "      <td>0.819444</td>\n",
       "      <td>0.819444</td>\n",
       "      <td>0.887324</td>\n",
       "      <td>0.816901</td>\n",
       "      <td>0.845070</td>\n",
       "      <td>0.788732</td>\n",
       "      <td>0.774648</td>\n",
       "      <td>0.873239</td>\n",
       "      <td>0.714286</td>\n",
       "      <td>0.006898</td>\n",
       "      <td>0.002324</td>\n",
       "      <td>0.049252</td>\n",
       "    </tr>\n",
       "    <tr>\n",
       "      <th>14</th>\n",
       "      <td>0.184631</td>\n",
       "      <td>0.105570</td>\n",
       "      <td>0.808989</td>\n",
       "      <td>500</td>\n",
       "      <td>100</td>\n",
       "      <td>{'max_depth': 500, 'n_estimators': 100}</td>\n",
       "      <td>12</td>\n",
       "      <td>0.777778</td>\n",
       "      <td>0.805556</td>\n",
       "      <td>0.847222</td>\n",
       "      <td>0.830986</td>\n",
       "      <td>0.845070</td>\n",
       "      <td>0.788732</td>\n",
       "      <td>0.788732</td>\n",
       "      <td>0.802817</td>\n",
       "      <td>0.859155</td>\n",
       "      <td>0.742857</td>\n",
       "      <td>0.006397</td>\n",
       "      <td>0.000757</td>\n",
       "      <td>0.034528</td>\n",
       "    </tr>\n",
       "    <tr>\n",
       "      <th>15</th>\n",
       "      <td>0.733951</td>\n",
       "      <td>0.178195</td>\n",
       "      <td>0.810393</td>\n",
       "      <td>500</td>\n",
       "      <td>500</td>\n",
       "      <td>{'max_depth': 500, 'n_estimators': 500}</td>\n",
       "      <td>7</td>\n",
       "      <td>0.805556</td>\n",
       "      <td>0.833333</td>\n",
       "      <td>0.833333</td>\n",
       "      <td>0.845070</td>\n",
       "      <td>0.845070</td>\n",
       "      <td>0.802817</td>\n",
       "      <td>0.774648</td>\n",
       "      <td>0.788732</td>\n",
       "      <td>0.859155</td>\n",
       "      <td>0.714286</td>\n",
       "      <td>0.052578</td>\n",
       "      <td>0.048711</td>\n",
       "      <td>0.040911</td>\n",
       "    </tr>\n",
       "  </tbody>\n",
       "</table>\n",
       "</div>"
      ],
      "text/plain": [
       "    mean_fit_time  mean_score_time  mean_test_score param_max_depth  \\\n",
       "0        0.113949         0.106117         0.799157               5   \n",
       "1        0.126037         0.108019         0.823034               5   \n",
       "2        0.192228         0.104155         0.830056               5   \n",
       "3        0.781837         0.156832         0.827247               5   \n",
       "4        0.117267         0.108846         0.810393              10   \n",
       "5        0.128298         0.109361         0.823034              10   \n",
       "6        0.214827         0.106643         0.828652              10   \n",
       "7        0.766216         0.177944         0.828652              10   \n",
       "8        0.121317         0.109378         0.793539             100   \n",
       "9        0.121274         0.106548         0.810393             100   \n",
       "10       0.227358         0.104384         0.808989             100   \n",
       "11       0.753450         0.179751         0.810393             100   \n",
       "12       0.118967         0.109626         0.793539             500   \n",
       "13       0.128051         0.109079         0.810393             500   \n",
       "14       0.184631         0.105570         0.808989             500   \n",
       "15       0.733951         0.178195         0.810393             500   \n",
       "\n",
       "   param_n_estimators                                   params  \\\n",
       "0                   5      {'max_depth': 5, 'n_estimators': 5}   \n",
       "1                  10     {'max_depth': 5, 'n_estimators': 10}   \n",
       "2                 100    {'max_depth': 5, 'n_estimators': 100}   \n",
       "3                 500    {'max_depth': 5, 'n_estimators': 500}   \n",
       "4                   5     {'max_depth': 10, 'n_estimators': 5}   \n",
       "5                  10    {'max_depth': 10, 'n_estimators': 10}   \n",
       "6                 100   {'max_depth': 10, 'n_estimators': 100}   \n",
       "7                 500   {'max_depth': 10, 'n_estimators': 500}   \n",
       "8                   5    {'max_depth': 100, 'n_estimators': 5}   \n",
       "9                  10   {'max_depth': 100, 'n_estimators': 10}   \n",
       "10                100  {'max_depth': 100, 'n_estimators': 100}   \n",
       "11                500  {'max_depth': 100, 'n_estimators': 500}   \n",
       "12                  5    {'max_depth': 500, 'n_estimators': 5}   \n",
       "13                 10   {'max_depth': 500, 'n_estimators': 10}   \n",
       "14                100  {'max_depth': 500, 'n_estimators': 100}   \n",
       "15                500  {'max_depth': 500, 'n_estimators': 500}   \n",
       "\n",
       "    rank_test_score  split0_test_score  split1_test_score  split2_test_score  \\\n",
       "0                14           0.750000           0.819444           0.736111   \n",
       "1                 5           0.750000           0.819444           0.819444   \n",
       "2                 1           0.777778           0.875000           0.805556   \n",
       "3                 4           0.777778           0.875000           0.805556   \n",
       "4                 7           0.763889           0.875000           0.805556   \n",
       "5                 5           0.777778           0.875000           0.833333   \n",
       "6                 2           0.777778           0.888889           0.833333   \n",
       "7                 2           0.777778           0.875000           0.833333   \n",
       "8                15           0.750000           0.805556           0.819444   \n",
       "9                 7           0.763889           0.819444           0.819444   \n",
       "10               12           0.777778           0.805556           0.847222   \n",
       "11                7           0.805556           0.833333           0.833333   \n",
       "12               15           0.750000           0.805556           0.819444   \n",
       "13                7           0.763889           0.819444           0.819444   \n",
       "14               12           0.777778           0.805556           0.847222   \n",
       "15                7           0.805556           0.833333           0.833333   \n",
       "\n",
       "    split3_test_score  split4_test_score  split5_test_score  \\\n",
       "0            0.845070           0.830986           0.845070   \n",
       "1            0.859155           0.845070           0.845070   \n",
       "2            0.859155           0.845070           0.873239   \n",
       "3            0.845070           0.845070           0.859155   \n",
       "4            0.859155           0.816901           0.802817   \n",
       "5            0.859155           0.845070           0.816901   \n",
       "6            0.845070           0.845070           0.816901   \n",
       "7            0.859155           0.816901           0.859155   \n",
       "8            0.873239           0.788732           0.830986   \n",
       "9            0.887324           0.816901           0.845070   \n",
       "10           0.830986           0.845070           0.788732   \n",
       "11           0.845070           0.845070           0.802817   \n",
       "12           0.873239           0.788732           0.830986   \n",
       "13           0.887324           0.816901           0.845070   \n",
       "14           0.830986           0.845070           0.788732   \n",
       "15           0.845070           0.845070           0.802817   \n",
       "\n",
       "    split6_test_score  split7_test_score  split8_test_score  \\\n",
       "0            0.845070           0.816901           0.802817   \n",
       "1            0.845070           0.830986           0.873239   \n",
       "2            0.816901           0.830986           0.887324   \n",
       "3            0.816901           0.830986           0.887324   \n",
       "4            0.802817           0.774648           0.859155   \n",
       "5            0.816901           0.802817           0.887324   \n",
       "6            0.816901           0.830986           0.873239   \n",
       "7            0.816901           0.802817           0.901408   \n",
       "8            0.802817           0.732394           0.788732   \n",
       "9            0.788732           0.774648           0.873239   \n",
       "10           0.788732           0.802817           0.859155   \n",
       "11           0.774648           0.788732           0.859155   \n",
       "12           0.802817           0.732394           0.788732   \n",
       "13           0.788732           0.774648           0.873239   \n",
       "14           0.788732           0.802817           0.859155   \n",
       "15           0.774648           0.788732           0.859155   \n",
       "\n",
       "    split9_test_score  std_fit_time  std_score_time  std_test_score  \n",
       "0            0.700000      0.005627        0.002553        0.049183  \n",
       "1            0.742857      0.008932        0.002825        0.041316  \n",
       "2            0.728571      0.033661        0.001156        0.046810  \n",
       "3            0.728571      0.061715        0.052464        0.044942  \n",
       "4            0.742857      0.007414        0.002452        0.041338  \n",
       "5            0.714286      0.007471        0.002198        0.047881  \n",
       "6            0.757143      0.041330        0.001815        0.037599  \n",
       "7            0.742857      0.042619        0.048924        0.044859  \n",
       "8            0.742857      0.011003        0.004211        0.041061  \n",
       "9            0.714286      0.009218        0.003457        0.049252  \n",
       "10           0.742857      0.048333        0.002391        0.034528  \n",
       "11           0.714286      0.063017        0.049047        0.040911  \n",
       "12           0.742857      0.008184        0.002239        0.041061  \n",
       "13           0.714286      0.006898        0.002324        0.049252  \n",
       "14           0.742857      0.006397        0.000757        0.034528  \n",
       "15           0.714286      0.052578        0.048711        0.040911  "
      ]
     },
     "execution_count": 16,
     "metadata": {},
     "output_type": "execute_result"
    }
   ],
   "source": [
    "pd.DataFrame(gs.cv_results_)"
   ]
  },
  {
   "cell_type": "code",
   "execution_count": 17,
   "metadata": {
    "collapsed": true,
    "slideshow": {
     "slide_type": "slide"
    }
   },
   "outputs": [],
   "source": [
    "pred_train=gs.predict(X_train)"
   ]
  },
  {
   "cell_type": "code",
   "execution_count": 18,
   "metadata": {
    "slideshow": {
     "slide_type": "-"
    }
   },
   "outputs": [
    {
     "name": "stdout",
     "output_type": "stream",
     "text": [
      "accuracy:\n",
      "0.925561797752809\n",
      "Confusion matrix:\n",
      "[[409  30]\n",
      " [ 77 196]]\n"
     ]
    }
   ],
   "source": [
    "score=clf_ranf.score(X_train,y_train)\n",
    "confusion = confusion_matrix(y_train, pred_train)\n",
    "print(\"accuracy:\\n{}\".format(score))\n",
    "print(\"Confusion matrix:\\n{}\".format(confusion))"
   ]
  },
  {
   "cell_type": "code",
   "execution_count": 19,
   "metadata": {
    "slideshow": {
     "slide_type": "slide"
    }
   },
   "outputs": [
    {
     "name": "stdout",
     "output_type": "stream",
     "text": [
      "Normalized confusion matrix\n",
      "[[ 0.93166287  0.06833713]\n",
      " [ 0.28205128  0.71794872]]\n"
     ]
    },
    {
     "data": {
      "image/png": "[encoded data removed]",
      "text/plain": [
       "<matplotlib.figure.Figure at 0x18fe606ac88>"
      ]
     },
     "metadata": {},
     "output_type": "display_data"
    }
   ],
   "source": [
    "plot_confusion_matrix(confusion,classes=[\"Survived\",\"Died\"],normalize=True)"
   ]
  },
  {
   "cell_type": "markdown",
   "metadata": {
    "slideshow": {
     "slide_type": "slide"
    }
   },
   "source": [
    "### Apply model to test data"
   ]
  },
  {
   "cell_type": "code",
   "execution_count": 20,
   "metadata": {
    "collapsed": true,
    "slideshow": {
     "slide_type": "-"
    }
   },
   "outputs": [],
   "source": [
    "test_df=pd.read_csv(\"test.csv\")"
   ]
  },
  {
   "cell_type": "code",
   "execution_count": 21,
   "metadata": {
    "collapsed": true,
    "slideshow": {
     "slide_type": "-"
    }
   },
   "outputs": [],
   "source": [
    "X_test=test_df[[\"age\",\"fare\",\"Second\",\"Third\",\"male\",\"ischild\",\"family_size\"]].values\n",
    "y_test=test_df[\"survived\"].values"
   ]
  },
  {
   "cell_type": "markdown",
   "metadata": {
    "slideshow": {
     "slide_type": "slide"
    }
   },
   "source": [
    "** Now We just want to predict on the test data**"
   ]
  },
  {
   "cell_type": "code",
   "execution_count": 22,
   "metadata": {
    "collapsed": true,
    "slideshow": {
     "slide_type": "-"
    }
   },
   "outputs": [],
   "source": [
    "pred_test=gs.predict(X_test)"
   ]
  },
  {
   "cell_type": "code",
   "execution_count": 23,
   "metadata": {
    "slideshow": {
     "slide_type": "-"
    }
   },
   "outputs": [
    {
     "name": "stdout",
     "output_type": "stream",
     "text": [
      "accuracy:\n",
      "0.8212290502793296\n",
      "Confusion matrix:\n",
      "[[95 15]\n",
      " [17 52]]\n"
     ]
    }
   ],
   "source": [
    "score=gs.score(X_test,y_test)\n",
    "confusion = confusion_matrix(y_test, pred_test)\n",
    "print(\"accuracy:\\n{}\".format(score))\n",
    "print(\"Confusion matrix:\\n{}\".format(confusion))"
   ]
  },
  {
   "cell_type": "code",
   "execution_count": 24,
   "metadata": {
    "slideshow": {
     "slide_type": "slide"
    }
   },
   "outputs": [
    {
     "name": "stdout",
     "output_type": "stream",
     "text": [
      "Normalized confusion matrix\n",
      "[[ 0.86363636  0.13636364]\n",
      " [ 0.24637681  0.75362319]]\n"
     ]
    },
    {
     "data": {
      "image/png": "[encoded data removed]",
      "text/plain": [
       "<matplotlib.figure.Figure at 0x18fe6138438>"
      ]
     },
     "metadata": {},
     "output_type": "display_data"
    }
   ],
   "source": [
    "plot_confusion_matrix(confusion,classes=[\"Survived\",\"Died\"],normalize=True)"
   ]
  },
  {
   "cell_type": "markdown",
   "metadata": {
    "slideshow": {
     "slide_type": "slide"
    }
   },
   "source": [
    "** We're about ready to deploy, our last step will be to refit this on the entire data set**"
   ]
  },
  {
   "cell_type": "code",
   "execution_count": 25,
   "metadata": {
    "collapsed": true,
    "slideshow": {
     "slide_type": "-"
    }
   },
   "outputs": [],
   "source": [
    "titanic_all=pd.concat([train_df,test_df],ignore_index=True)"
   ]
  },
  {
   "cell_type": "code",
   "execution_count": 26,
   "metadata": {
    "collapsed": true,
    "slideshow": {
     "slide_type": "-"
    }
   },
   "outputs": [],
   "source": [
    "X_all=titanic_all[[\"age\",\"fare\",\"Second\",\"Third\",\"male\",\"ischild\",\"family_size\"]].values\n",
    "y_all=titanic_all[\"survived\"].values"
   ]
  },
  {
   "cell_type": "code",
   "execution_count": 27,
   "metadata": {
    "collapsed": true,
    "slideshow": {
     "slide_type": "-"
    }
   },
   "outputs": [],
   "source": [
    "final_model=gs.best_estimator_.fit(X_all,y_all)"
   ]
  },
  {
   "cell_type": "markdown",
   "metadata": {
    "slideshow": {
     "slide_type": "slide"
    }
   },
   "source": [
    "### Deploying our model"
   ]
  },
  {
   "cell_type": "code",
   "execution_count": 28,
   "metadata": {
    "collapsed": true,
    "slideshow": {
     "slide_type": "-"
    }
   },
   "outputs": [],
   "source": [
    "joblib.dump(final_model,'titanic_ranf.pkl');"
   ]
  },
  {
   "cell_type": "code",
   "execution_count": null,
   "metadata": {
    "collapsed": true
   },
   "outputs": [],
   "source": []
  },
  {
   "cell_type": "markdown",
   "metadata": {
    "collapsed": true
   },
   "source": [
    " "
   ]
  },
  {
   "cell_type": "markdown",
   "metadata": {},
   "source": [
    "<!--NAVIGATION-->\n",
    "##### < [Statistical Analysis with StatsModels](04_statsmodels.ipynb) | [Contents](00_Index.ipynb#4--Statistical-Analysis-with-StatsModels) | [Deep Learning with Keras](06_deeplearning.ipynb)>"
   ]
  },
  {
   "cell_type": "code",
   "execution_count": null,
   "metadata": {
    "collapsed": true
   },
   "outputs": [],
   "source": []
  }
 ],
 "metadata": {
  "celltoolbar": "Slideshow",
  "kernelspec": {
   "display_name": "Python 3",
   "language": "python",
   "name": "python3"
  },
  "language_info": {
   "codemirror_mode": {
    "name": "ipython",
    "version": 3
   },
   "file_extension": ".py",
   "mimetype": "text/x-python",
   "name": "python",
   "nbconvert_exporter": "python",
   "pygments_lexer": "ipython3",
   "version": "3.6.3"
  }
 },
 "nbformat": 4,
 "nbformat_minor": 2
}
